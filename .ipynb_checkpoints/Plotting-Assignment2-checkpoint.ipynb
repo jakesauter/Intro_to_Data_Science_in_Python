{
 "cells": [
  {
   "cell_type": "markdown",
   "metadata": {},
   "source": [
    "# Assignment 2\n",
    "\n",
    "Before working on this assignment please read these instructions fully. In the submission area, you will notice that you can click the link to **Preview the Grading** for each step of the assignment. This is the criteria that will be used for peer grading. Please familiarize yourself with the criteria before beginning the assignment.\n",
    "\n",
    "An NOAA dataset has been stored in the file `data/C2A2_data/BinnedCsvs_d400/fb441e62df2d58994928907a91895ec62c2c42e6cd075c2700843b89.csv`. The data for this assignment comes from a subset of The National Centers for Environmental Information (NCEI) [Daily Global Historical Climatology Network](https://www1.ncdc.noaa.gov/pub/data/ghcn/daily/readme.txt) (GHCN-Daily). The GHCN-Daily is comprised of daily climate records from thousands of land surface stations across the globe.\n",
    "\n",
    "Each row in the assignment datafile corresponds to a single observation.\n",
    "\n",
    "The following variables are provided to you:\n",
    "\n",
    "* **id** : station identification code\n",
    "* **date** : date in YYYY-MM-DD format (e.g. 2012-01-24 = January 24, 2012)\n",
    "* **element** : indicator of element type\n",
    "    * TMAX : Maximum temperature (tenths of degrees C)\n",
    "    * TMIN : Minimum temperature (tenths of degrees C)\n",
    "* **value** : data value for element (tenths of degrees C)\n",
    "\n",
    "For this assignment, you must:\n",
    "\n",
    "1. Read the documentation and familiarize yourself with the dataset, then write some python code which returns a line graph of the record high and record low temperatures by day of the year over the period 2005-2014. The area between the record high and record low temperatures for each day should be shaded.\n",
    "2. Overlay a scatter of the 2015 data for any points (highs and lows) for which the ten year record (2005-2014) record high or record low was broken in 2015.\n",
    "3. Watch out for leap days (i.e. February 29th), it is reasonable to remove these points from the dataset for the purpose of this visualization.\n",
    "4. Make the visual nice! Leverage principles from the first module in this course when developing your solution. Consider issues such as legends, labels, and chart junk.\n",
    "\n",
    "The data you have been given is near **Ann Arbor, Michigan, United States**, and the stations the data comes from are shown on the map below."
   ]
  },
  {
   "cell_type": "code",
   "execution_count": 1,
   "metadata": {},
   "outputs": [],
   "source": [
    "import matplotlib.pyplot as plt\n",
    "import mplleaflet\n",
    "import pandas as pd\n",
    "\n",
    "df = pd.read_csv('/home/x1/Documents/Python/data/weather_data.csv')"
   ]
  },
  {
   "cell_type": "code",
   "execution_count": 2,
   "metadata": {},
   "outputs": [
    {
     "data": {
      "text/html": [
       "<div>\n",
       "<style scoped>\n",
       "    .dataframe tbody tr th:only-of-type {\n",
       "        vertical-align: middle;\n",
       "    }\n",
       "\n",
       "    .dataframe tbody tr th {\n",
       "        vertical-align: top;\n",
       "    }\n",
       "\n",
       "    .dataframe thead th {\n",
       "        text-align: right;\n",
       "    }\n",
       "</style>\n",
       "<table border=\"1\" class=\"dataframe\">\n",
       "  <thead>\n",
       "    <tr style=\"text-align: right;\">\n",
       "      <th></th>\n",
       "      <th>ID</th>\n",
       "      <th>Date</th>\n",
       "      <th>Element</th>\n",
       "      <th>Data_Value</th>\n",
       "    </tr>\n",
       "  </thead>\n",
       "  <tbody>\n",
       "    <tr>\n",
       "      <th>0</th>\n",
       "      <td>USW00094889</td>\n",
       "      <td>2014-11-12</td>\n",
       "      <td>TMAX</td>\n",
       "      <td>22</td>\n",
       "    </tr>\n",
       "    <tr>\n",
       "      <th>1</th>\n",
       "      <td>USC00208972</td>\n",
       "      <td>2009-04-29</td>\n",
       "      <td>TMIN</td>\n",
       "      <td>56</td>\n",
       "    </tr>\n",
       "    <tr>\n",
       "      <th>2</th>\n",
       "      <td>USC00200032</td>\n",
       "      <td>2008-05-26</td>\n",
       "      <td>TMAX</td>\n",
       "      <td>278</td>\n",
       "    </tr>\n",
       "    <tr>\n",
       "      <th>3</th>\n",
       "      <td>USC00205563</td>\n",
       "      <td>2005-11-11</td>\n",
       "      <td>TMAX</td>\n",
       "      <td>139</td>\n",
       "    </tr>\n",
       "    <tr>\n",
       "      <th>4</th>\n",
       "      <td>USC00200230</td>\n",
       "      <td>2014-02-27</td>\n",
       "      <td>TMAX</td>\n",
       "      <td>-106</td>\n",
       "    </tr>\n",
       "  </tbody>\n",
       "</table>\n",
       "</div>"
      ],
      "text/plain": [
       "            ID        Date Element  Data_Value\n",
       "0  USW00094889  2014-11-12    TMAX          22\n",
       "1  USC00208972  2009-04-29    TMIN          56\n",
       "2  USC00200032  2008-05-26    TMAX         278\n",
       "3  USC00205563  2005-11-11    TMAX         139\n",
       "4  USC00200230  2014-02-27    TMAX        -106"
      ]
     },
     "execution_count": 2,
     "metadata": {},
     "output_type": "execute_result"
    }
   ],
   "source": [
    "df.head()"
   ]
  },
  {
   "cell_type": "code",
   "execution_count": 3,
   "metadata": {},
   "outputs": [
    {
     "data": {
      "text/html": [
       "<div>\n",
       "<style scoped>\n",
       "    .dataframe tbody tr th:only-of-type {\n",
       "        vertical-align: middle;\n",
       "    }\n",
       "\n",
       "    .dataframe tbody tr th {\n",
       "        vertical-align: top;\n",
       "    }\n",
       "\n",
       "    .dataframe thead th {\n",
       "        text-align: right;\n",
       "    }\n",
       "</style>\n",
       "<table border=\"1\" class=\"dataframe\">\n",
       "  <thead>\n",
       "    <tr style=\"text-align: right;\">\n",
       "      <th>Element</th>\n",
       "      <th>TMAX</th>\n",
       "      <th>TMIN</th>\n",
       "    </tr>\n",
       "    <tr>\n",
       "      <th>Date</th>\n",
       "      <th></th>\n",
       "      <th></th>\n",
       "    </tr>\n",
       "  </thead>\n",
       "  <tbody>\n",
       "    <tr>\n",
       "      <th>2005-01-01</th>\n",
       "      <td>108.600000</td>\n",
       "      <td>-33.095238</td>\n",
       "    </tr>\n",
       "    <tr>\n",
       "      <th>2005-01-02</th>\n",
       "      <td>83.047619</td>\n",
       "      <td>-16.421053</td>\n",
       "    </tr>\n",
       "    <tr>\n",
       "      <th>2005-01-03</th>\n",
       "      <td>85.250000</td>\n",
       "      <td>8.380952</td>\n",
       "    </tr>\n",
       "    <tr>\n",
       "      <th>2005-01-04</th>\n",
       "      <td>24.315789</td>\n",
       "      <td>-4.450000</td>\n",
       "    </tr>\n",
       "    <tr>\n",
       "      <th>2005-01-05</th>\n",
       "      <td>7.450000</td>\n",
       "      <td>-47.714286</td>\n",
       "    </tr>\n",
       "  </tbody>\n",
       "</table>\n",
       "</div>"
      ],
      "text/plain": [
       "Element           TMAX       TMIN\n",
       "Date                             \n",
       "2005-01-01  108.600000 -33.095238\n",
       "2005-01-02   83.047619 -16.421053\n",
       "2005-01-03   85.250000   8.380952\n",
       "2005-01-04   24.315789  -4.450000\n",
       "2005-01-05    7.450000 -47.714286"
      ]
     },
     "execution_count": 3,
     "metadata": {},
     "output_type": "execute_result"
    }
   ],
   "source": [
    "pdf = pd.pivot_table(df, values='Data_Value', index='Date', columns='Element')\n",
    "pdf.head()"
   ]
  },
  {
   "cell_type": "code",
   "execution_count": 74,
   "metadata": {},
   "outputs": [
    {
     "data": {
      "text/html": [
       "<div>\n",
       "<style scoped>\n",
       "    .dataframe tbody tr th:only-of-type {\n",
       "        vertical-align: middle;\n",
       "    }\n",
       "\n",
       "    .dataframe tbody tr th {\n",
       "        vertical-align: top;\n",
       "    }\n",
       "\n",
       "    .dataframe thead th {\n",
       "        text-align: right;\n",
       "    }\n",
       "</style>\n",
       "<table border=\"1\" class=\"dataframe\">\n",
       "  <thead>\n",
       "    <tr style=\"text-align: right;\">\n",
       "      <th></th>\n",
       "      <th>TMAX</th>\n",
       "      <th>TMIN</th>\n",
       "    </tr>\n",
       "  </thead>\n",
       "  <tbody>\n",
       "    <tr>\n",
       "      <th>01-01</th>\n",
       "      <td>53.2571</td>\n",
       "      <td>8.11727</td>\n",
       "    </tr>\n",
       "    <tr>\n",
       "      <th>01-02</th>\n",
       "      <td>46.9486</td>\n",
       "      <td>6.87579</td>\n",
       "    </tr>\n",
       "    <tr>\n",
       "      <th>01-03</th>\n",
       "      <td>47.345</td>\n",
       "      <td>-7.69474</td>\n",
       "    </tr>\n",
       "    <tr>\n",
       "      <th>01-04</th>\n",
       "      <td>48.047</td>\n",
       "      <td>-0.958</td>\n",
       "    </tr>\n",
       "    <tr>\n",
       "      <th>01-05</th>\n",
       "      <td>50.5305</td>\n",
       "      <td>13.5029</td>\n",
       "    </tr>\n",
       "  </tbody>\n",
       "</table>\n",
       "</div>"
      ],
      "text/plain": [
       "          TMAX     TMIN\n",
       "01-01  53.2571  8.11727\n",
       "01-02  46.9486  6.87579\n",
       "01-03   47.345 -7.69474\n",
       "01-04   48.047   -0.958\n",
       "01-05  50.5305  13.5029"
      ]
     },
     "execution_count": 74,
     "metadata": {},
     "output_type": "execute_result"
    }
   ],
   "source": [
    "years = list(range(2005, 2015))\n",
    "days = ['-'.join(x.split('-')[1:3]) for x in pdf.index if x.startswith('2015')]\n",
    "record_df = pd.DataFrame(index=days, columns=['TMAX', 'TMIN'])\n",
    "df_2015   = pd.DataFrame(index=days, columns=['TMAX', 'TMIN'])\n",
    "\n",
    "for day in days: \n",
    "    all_dates = [\"{}-{}\".format(year, day) for year in years]\n",
    "    date_2015 = \"2015-{}\".format(day)\n",
    "    record_df.loc[day]['TMIN'] = 1.8 * (pdf.loc[all_dates]['TMIN'].min(axis=0) / 10) + 32\n",
    "    record_df.loc[day]['TMAX'] = 1.8 * (pdf.loc[all_dates]['TMAX'].max(axis=0) / 10) + 32\n",
    "    df_2015.loc[day] = 1.8 * (pdf.loc[date_2015] / 10) + 32\n",
    "\n",
    "# record_df in farenheight\n",
    "record_df.head()"
   ]
  },
  {
   "cell_type": "code",
   "execution_count": 164,
   "metadata": {},
   "outputs": [
    {
     "data": {
      "text/plain": [
       "<matplotlib.collections.PolyCollection at 0x7fcf13a29748>"
      ]
     },
     "execution_count": 164,
     "metadata": {},
     "output_type": "execute_result"
    },
    {
     "name": "stdout",
     "output_type": "stream",
     "text": [
      "Error in callback <function install_repl_displayhook.<locals>.post_execute at 0x7fcf2080aae8> (for post_execute):\n"
     ]
    },
    {
     "ename": "ValueError",
     "evalue": "Invalid RGBA argument: ['red', 'blue']",
     "output_type": "error",
     "traceback": [
      "\u001b[0;31m---------------------------------------------------------------------------\u001b[0m",
      "\u001b[0;31mValueError\u001b[0m                                Traceback (most recent call last)",
      "\u001b[0;32m/home/x1/.local/lib/python3.6/site-packages/matplotlib/pyplot.py\u001b[0m in \u001b[0;36mpost_execute\u001b[0;34m()\u001b[0m\n\u001b[1;32m    107\u001b[0m             \u001b[0;32mdef\u001b[0m \u001b[0mpost_execute\u001b[0m\u001b[0;34m(\u001b[0m\u001b[0;34m)\u001b[0m\u001b[0;34m:\u001b[0m\u001b[0;34m\u001b[0m\u001b[0;34m\u001b[0m\u001b[0m\n\u001b[1;32m    108\u001b[0m                 \u001b[0;32mif\u001b[0m \u001b[0mmatplotlib\u001b[0m\u001b[0;34m.\u001b[0m\u001b[0mis_interactive\u001b[0m\u001b[0;34m(\u001b[0m\u001b[0;34m)\u001b[0m\u001b[0;34m:\u001b[0m\u001b[0;34m\u001b[0m\u001b[0;34m\u001b[0m\u001b[0m\n\u001b[0;32m--> 109\u001b[0;31m                     \u001b[0mdraw_all\u001b[0m\u001b[0;34m(\u001b[0m\u001b[0;34m)\u001b[0m\u001b[0;34m\u001b[0m\u001b[0;34m\u001b[0m\u001b[0m\n\u001b[0m\u001b[1;32m    110\u001b[0m \u001b[0;34m\u001b[0m\u001b[0m\n\u001b[1;32m    111\u001b[0m             \u001b[0;31m# IPython >= 2\u001b[0m\u001b[0;34m\u001b[0m\u001b[0;34m\u001b[0m\u001b[0;34m\u001b[0m\u001b[0m\n",
      "\u001b[0;32m/home/x1/.local/lib/python3.6/site-packages/matplotlib/_pylab_helpers.py\u001b[0m in \u001b[0;36mdraw_all\u001b[0;34m(cls, force)\u001b[0m\n\u001b[1;32m    126\u001b[0m         \u001b[0;32mfor\u001b[0m \u001b[0mf_mgr\u001b[0m \u001b[0;32min\u001b[0m \u001b[0mcls\u001b[0m\u001b[0;34m.\u001b[0m\u001b[0mget_all_fig_managers\u001b[0m\u001b[0;34m(\u001b[0m\u001b[0;34m)\u001b[0m\u001b[0;34m:\u001b[0m\u001b[0;34m\u001b[0m\u001b[0;34m\u001b[0m\u001b[0m\n\u001b[1;32m    127\u001b[0m             \u001b[0;32mif\u001b[0m \u001b[0mforce\u001b[0m \u001b[0;32mor\u001b[0m \u001b[0mf_mgr\u001b[0m\u001b[0;34m.\u001b[0m\u001b[0mcanvas\u001b[0m\u001b[0;34m.\u001b[0m\u001b[0mfigure\u001b[0m\u001b[0;34m.\u001b[0m\u001b[0mstale\u001b[0m\u001b[0;34m:\u001b[0m\u001b[0;34m\u001b[0m\u001b[0;34m\u001b[0m\u001b[0m\n\u001b[0;32m--> 128\u001b[0;31m                 \u001b[0mf_mgr\u001b[0m\u001b[0;34m.\u001b[0m\u001b[0mcanvas\u001b[0m\u001b[0;34m.\u001b[0m\u001b[0mdraw_idle\u001b[0m\u001b[0;34m(\u001b[0m\u001b[0;34m)\u001b[0m\u001b[0;34m\u001b[0m\u001b[0;34m\u001b[0m\u001b[0m\n\u001b[0m\u001b[1;32m    129\u001b[0m \u001b[0;34m\u001b[0m\u001b[0m\n\u001b[1;32m    130\u001b[0m \u001b[0matexit\u001b[0m\u001b[0;34m.\u001b[0m\u001b[0mregister\u001b[0m\u001b[0;34m(\u001b[0m\u001b[0mGcf\u001b[0m\u001b[0;34m.\u001b[0m\u001b[0mdestroy_all\u001b[0m\u001b[0;34m)\u001b[0m\u001b[0;34m\u001b[0m\u001b[0;34m\u001b[0m\u001b[0m\n",
      "\u001b[0;32m/home/x1/.local/lib/python3.6/site-packages/matplotlib/backend_bases.py\u001b[0m in \u001b[0;36mdraw_idle\u001b[0;34m(self, *args, **kwargs)\u001b[0m\n\u001b[1;32m   1912\u001b[0m         \u001b[0;32mif\u001b[0m \u001b[0;32mnot\u001b[0m \u001b[0mself\u001b[0m\u001b[0;34m.\u001b[0m\u001b[0m_is_idle_drawing\u001b[0m\u001b[0;34m:\u001b[0m\u001b[0;34m\u001b[0m\u001b[0;34m\u001b[0m\u001b[0m\n\u001b[1;32m   1913\u001b[0m             \u001b[0;32mwith\u001b[0m \u001b[0mself\u001b[0m\u001b[0;34m.\u001b[0m\u001b[0m_idle_draw_cntx\u001b[0m\u001b[0;34m(\u001b[0m\u001b[0;34m)\u001b[0m\u001b[0;34m:\u001b[0m\u001b[0;34m\u001b[0m\u001b[0;34m\u001b[0m\u001b[0m\n\u001b[0;32m-> 1914\u001b[0;31m                 \u001b[0mself\u001b[0m\u001b[0;34m.\u001b[0m\u001b[0mdraw\u001b[0m\u001b[0;34m(\u001b[0m\u001b[0;34m*\u001b[0m\u001b[0margs\u001b[0m\u001b[0;34m,\u001b[0m \u001b[0;34m**\u001b[0m\u001b[0mkwargs\u001b[0m\u001b[0;34m)\u001b[0m\u001b[0;34m\u001b[0m\u001b[0;34m\u001b[0m\u001b[0m\n\u001b[0m\u001b[1;32m   1915\u001b[0m \u001b[0;34m\u001b[0m\u001b[0m\n\u001b[1;32m   1916\u001b[0m     \u001b[0;32mdef\u001b[0m \u001b[0mdraw_cursor\u001b[0m\u001b[0;34m(\u001b[0m\u001b[0mself\u001b[0m\u001b[0;34m,\u001b[0m \u001b[0mevent\u001b[0m\u001b[0;34m)\u001b[0m\u001b[0;34m:\u001b[0m\u001b[0;34m\u001b[0m\u001b[0;34m\u001b[0m\u001b[0m\n",
      "\u001b[0;32m/home/x1/.local/lib/python3.6/site-packages/matplotlib/backends/backend_agg.py\u001b[0m in \u001b[0;36mdraw\u001b[0;34m(self)\u001b[0m\n\u001b[1;32m    386\u001b[0m         \u001b[0mself\u001b[0m\u001b[0;34m.\u001b[0m\u001b[0mrenderer\u001b[0m \u001b[0;34m=\u001b[0m \u001b[0mself\u001b[0m\u001b[0;34m.\u001b[0m\u001b[0mget_renderer\u001b[0m\u001b[0;34m(\u001b[0m\u001b[0mcleared\u001b[0m\u001b[0;34m=\u001b[0m\u001b[0;32mTrue\u001b[0m\u001b[0;34m)\u001b[0m\u001b[0;34m\u001b[0m\u001b[0;34m\u001b[0m\u001b[0m\n\u001b[1;32m    387\u001b[0m         \u001b[0;32mwith\u001b[0m \u001b[0mRendererAgg\u001b[0m\u001b[0;34m.\u001b[0m\u001b[0mlock\u001b[0m\u001b[0;34m:\u001b[0m\u001b[0;34m\u001b[0m\u001b[0;34m\u001b[0m\u001b[0m\n\u001b[0;32m--> 388\u001b[0;31m             \u001b[0mself\u001b[0m\u001b[0;34m.\u001b[0m\u001b[0mfigure\u001b[0m\u001b[0;34m.\u001b[0m\u001b[0mdraw\u001b[0m\u001b[0;34m(\u001b[0m\u001b[0mself\u001b[0m\u001b[0;34m.\u001b[0m\u001b[0mrenderer\u001b[0m\u001b[0;34m)\u001b[0m\u001b[0;34m\u001b[0m\u001b[0;34m\u001b[0m\u001b[0m\n\u001b[0m\u001b[1;32m    389\u001b[0m             \u001b[0;31m# A GUI class may be need to update a window using this draw, so\u001b[0m\u001b[0;34m\u001b[0m\u001b[0;34m\u001b[0m\u001b[0;34m\u001b[0m\u001b[0m\n\u001b[1;32m    390\u001b[0m             \u001b[0;31m# don't forget to call the superclass.\u001b[0m\u001b[0;34m\u001b[0m\u001b[0;34m\u001b[0m\u001b[0;34m\u001b[0m\u001b[0m\n",
      "\u001b[0;32m/home/x1/.local/lib/python3.6/site-packages/matplotlib/artist.py\u001b[0m in \u001b[0;36mdraw_wrapper\u001b[0;34m(artist, renderer, *args, **kwargs)\u001b[0m\n\u001b[1;32m     36\u001b[0m                 \u001b[0mrenderer\u001b[0m\u001b[0;34m.\u001b[0m\u001b[0mstart_filter\u001b[0m\u001b[0;34m(\u001b[0m\u001b[0;34m)\u001b[0m\u001b[0;34m\u001b[0m\u001b[0;34m\u001b[0m\u001b[0m\n\u001b[1;32m     37\u001b[0m \u001b[0;34m\u001b[0m\u001b[0m\n\u001b[0;32m---> 38\u001b[0;31m             \u001b[0;32mreturn\u001b[0m \u001b[0mdraw\u001b[0m\u001b[0;34m(\u001b[0m\u001b[0martist\u001b[0m\u001b[0;34m,\u001b[0m \u001b[0mrenderer\u001b[0m\u001b[0;34m,\u001b[0m \u001b[0;34m*\u001b[0m\u001b[0margs\u001b[0m\u001b[0;34m,\u001b[0m \u001b[0;34m**\u001b[0m\u001b[0mkwargs\u001b[0m\u001b[0;34m)\u001b[0m\u001b[0;34m\u001b[0m\u001b[0;34m\u001b[0m\u001b[0m\n\u001b[0m\u001b[1;32m     39\u001b[0m         \u001b[0;32mfinally\u001b[0m\u001b[0;34m:\u001b[0m\u001b[0;34m\u001b[0m\u001b[0;34m\u001b[0m\u001b[0m\n\u001b[1;32m     40\u001b[0m             \u001b[0;32mif\u001b[0m \u001b[0martist\u001b[0m\u001b[0;34m.\u001b[0m\u001b[0mget_agg_filter\u001b[0m\u001b[0;34m(\u001b[0m\u001b[0;34m)\u001b[0m \u001b[0;32mis\u001b[0m \u001b[0;32mnot\u001b[0m \u001b[0;32mNone\u001b[0m\u001b[0;34m:\u001b[0m\u001b[0;34m\u001b[0m\u001b[0;34m\u001b[0m\u001b[0m\n",
      "\u001b[0;32m/home/x1/.local/lib/python3.6/site-packages/matplotlib/figure.py\u001b[0m in \u001b[0;36mdraw\u001b[0;34m(self, renderer)\u001b[0m\n\u001b[1;32m   1707\u001b[0m             \u001b[0mself\u001b[0m\u001b[0;34m.\u001b[0m\u001b[0mpatch\u001b[0m\u001b[0;34m.\u001b[0m\u001b[0mdraw\u001b[0m\u001b[0;34m(\u001b[0m\u001b[0mrenderer\u001b[0m\u001b[0;34m)\u001b[0m\u001b[0;34m\u001b[0m\u001b[0;34m\u001b[0m\u001b[0m\n\u001b[1;32m   1708\u001b[0m             mimage._draw_list_compositing_images(\n\u001b[0;32m-> 1709\u001b[0;31m                 renderer, self, artists, self.suppressComposite)\n\u001b[0m\u001b[1;32m   1710\u001b[0m \u001b[0;34m\u001b[0m\u001b[0m\n\u001b[1;32m   1711\u001b[0m             \u001b[0mrenderer\u001b[0m\u001b[0;34m.\u001b[0m\u001b[0mclose_group\u001b[0m\u001b[0;34m(\u001b[0m\u001b[0;34m'figure'\u001b[0m\u001b[0;34m)\u001b[0m\u001b[0;34m\u001b[0m\u001b[0;34m\u001b[0m\u001b[0m\n",
      "\u001b[0;32m/home/x1/.local/lib/python3.6/site-packages/matplotlib/image.py\u001b[0m in \u001b[0;36m_draw_list_compositing_images\u001b[0;34m(renderer, parent, artists, suppress_composite)\u001b[0m\n\u001b[1;32m    133\u001b[0m     \u001b[0;32mif\u001b[0m \u001b[0mnot_composite\u001b[0m \u001b[0;32mor\u001b[0m \u001b[0;32mnot\u001b[0m \u001b[0mhas_images\u001b[0m\u001b[0;34m:\u001b[0m\u001b[0;34m\u001b[0m\u001b[0;34m\u001b[0m\u001b[0m\n\u001b[1;32m    134\u001b[0m         \u001b[0;32mfor\u001b[0m \u001b[0ma\u001b[0m \u001b[0;32min\u001b[0m \u001b[0martists\u001b[0m\u001b[0;34m:\u001b[0m\u001b[0;34m\u001b[0m\u001b[0;34m\u001b[0m\u001b[0m\n\u001b[0;32m--> 135\u001b[0;31m             \u001b[0ma\u001b[0m\u001b[0;34m.\u001b[0m\u001b[0mdraw\u001b[0m\u001b[0;34m(\u001b[0m\u001b[0mrenderer\u001b[0m\u001b[0;34m)\u001b[0m\u001b[0;34m\u001b[0m\u001b[0;34m\u001b[0m\u001b[0m\n\u001b[0m\u001b[1;32m    136\u001b[0m     \u001b[0;32melse\u001b[0m\u001b[0;34m:\u001b[0m\u001b[0;34m\u001b[0m\u001b[0;34m\u001b[0m\u001b[0m\n\u001b[1;32m    137\u001b[0m         \u001b[0;31m# Composite any adjacent images together\u001b[0m\u001b[0;34m\u001b[0m\u001b[0;34m\u001b[0m\u001b[0;34m\u001b[0m\u001b[0m\n",
      "\u001b[0;32m/home/x1/.local/lib/python3.6/site-packages/matplotlib/artist.py\u001b[0m in \u001b[0;36mdraw_wrapper\u001b[0;34m(artist, renderer, *args, **kwargs)\u001b[0m\n\u001b[1;32m     36\u001b[0m                 \u001b[0mrenderer\u001b[0m\u001b[0;34m.\u001b[0m\u001b[0mstart_filter\u001b[0m\u001b[0;34m(\u001b[0m\u001b[0;34m)\u001b[0m\u001b[0;34m\u001b[0m\u001b[0;34m\u001b[0m\u001b[0m\n\u001b[1;32m     37\u001b[0m \u001b[0;34m\u001b[0m\u001b[0m\n\u001b[0;32m---> 38\u001b[0;31m             \u001b[0;32mreturn\u001b[0m \u001b[0mdraw\u001b[0m\u001b[0;34m(\u001b[0m\u001b[0martist\u001b[0m\u001b[0;34m,\u001b[0m \u001b[0mrenderer\u001b[0m\u001b[0;34m,\u001b[0m \u001b[0;34m*\u001b[0m\u001b[0margs\u001b[0m\u001b[0;34m,\u001b[0m \u001b[0;34m**\u001b[0m\u001b[0mkwargs\u001b[0m\u001b[0;34m)\u001b[0m\u001b[0;34m\u001b[0m\u001b[0;34m\u001b[0m\u001b[0m\n\u001b[0m\u001b[1;32m     39\u001b[0m         \u001b[0;32mfinally\u001b[0m\u001b[0;34m:\u001b[0m\u001b[0;34m\u001b[0m\u001b[0;34m\u001b[0m\u001b[0m\n\u001b[1;32m     40\u001b[0m             \u001b[0;32mif\u001b[0m \u001b[0martist\u001b[0m\u001b[0;34m.\u001b[0m\u001b[0mget_agg_filter\u001b[0m\u001b[0;34m(\u001b[0m\u001b[0;34m)\u001b[0m \u001b[0;32mis\u001b[0m \u001b[0;32mnot\u001b[0m \u001b[0;32mNone\u001b[0m\u001b[0;34m:\u001b[0m\u001b[0;34m\u001b[0m\u001b[0;34m\u001b[0m\u001b[0m\n",
      "\u001b[0;32m/home/x1/.local/lib/python3.6/site-packages/matplotlib/axes/_base.py\u001b[0m in \u001b[0;36mdraw\u001b[0;34m(self, renderer, inframe)\u001b[0m\n\u001b[1;32m   2645\u001b[0m             \u001b[0mrenderer\u001b[0m\u001b[0;34m.\u001b[0m\u001b[0mstop_rasterizing\u001b[0m\u001b[0;34m(\u001b[0m\u001b[0;34m)\u001b[0m\u001b[0;34m\u001b[0m\u001b[0;34m\u001b[0m\u001b[0m\n\u001b[1;32m   2646\u001b[0m \u001b[0;34m\u001b[0m\u001b[0m\n\u001b[0;32m-> 2647\u001b[0;31m         \u001b[0mmimage\u001b[0m\u001b[0;34m.\u001b[0m\u001b[0m_draw_list_compositing_images\u001b[0m\u001b[0;34m(\u001b[0m\u001b[0mrenderer\u001b[0m\u001b[0;34m,\u001b[0m \u001b[0mself\u001b[0m\u001b[0;34m,\u001b[0m \u001b[0martists\u001b[0m\u001b[0;34m)\u001b[0m\u001b[0;34m\u001b[0m\u001b[0;34m\u001b[0m\u001b[0m\n\u001b[0m\u001b[1;32m   2648\u001b[0m \u001b[0;34m\u001b[0m\u001b[0m\n\u001b[1;32m   2649\u001b[0m         \u001b[0mrenderer\u001b[0m\u001b[0;34m.\u001b[0m\u001b[0mclose_group\u001b[0m\u001b[0;34m(\u001b[0m\u001b[0;34m'axes'\u001b[0m\u001b[0;34m)\u001b[0m\u001b[0;34m\u001b[0m\u001b[0;34m\u001b[0m\u001b[0m\n",
      "\u001b[0;32m/home/x1/.local/lib/python3.6/site-packages/matplotlib/image.py\u001b[0m in \u001b[0;36m_draw_list_compositing_images\u001b[0;34m(renderer, parent, artists, suppress_composite)\u001b[0m\n\u001b[1;32m    133\u001b[0m     \u001b[0;32mif\u001b[0m \u001b[0mnot_composite\u001b[0m \u001b[0;32mor\u001b[0m \u001b[0;32mnot\u001b[0m \u001b[0mhas_images\u001b[0m\u001b[0;34m:\u001b[0m\u001b[0;34m\u001b[0m\u001b[0;34m\u001b[0m\u001b[0m\n\u001b[1;32m    134\u001b[0m         \u001b[0;32mfor\u001b[0m \u001b[0ma\u001b[0m \u001b[0;32min\u001b[0m \u001b[0martists\u001b[0m\u001b[0;34m:\u001b[0m\u001b[0;34m\u001b[0m\u001b[0;34m\u001b[0m\u001b[0m\n\u001b[0;32m--> 135\u001b[0;31m             \u001b[0ma\u001b[0m\u001b[0;34m.\u001b[0m\u001b[0mdraw\u001b[0m\u001b[0;34m(\u001b[0m\u001b[0mrenderer\u001b[0m\u001b[0;34m)\u001b[0m\u001b[0;34m\u001b[0m\u001b[0;34m\u001b[0m\u001b[0m\n\u001b[0m\u001b[1;32m    136\u001b[0m     \u001b[0;32melse\u001b[0m\u001b[0;34m:\u001b[0m\u001b[0;34m\u001b[0m\u001b[0;34m\u001b[0m\u001b[0m\n\u001b[1;32m    137\u001b[0m         \u001b[0;31m# Composite any adjacent images together\u001b[0m\u001b[0;34m\u001b[0m\u001b[0;34m\u001b[0m\u001b[0;34m\u001b[0m\u001b[0m\n",
      "\u001b[0;32m/home/x1/.local/lib/python3.6/site-packages/matplotlib/artist.py\u001b[0m in \u001b[0;36mdraw_wrapper\u001b[0;34m(artist, renderer, *args, **kwargs)\u001b[0m\n\u001b[1;32m     36\u001b[0m                 \u001b[0mrenderer\u001b[0m\u001b[0;34m.\u001b[0m\u001b[0mstart_filter\u001b[0m\u001b[0;34m(\u001b[0m\u001b[0;34m)\u001b[0m\u001b[0;34m\u001b[0m\u001b[0;34m\u001b[0m\u001b[0m\n\u001b[1;32m     37\u001b[0m \u001b[0;34m\u001b[0m\u001b[0m\n\u001b[0;32m---> 38\u001b[0;31m             \u001b[0;32mreturn\u001b[0m \u001b[0mdraw\u001b[0m\u001b[0;34m(\u001b[0m\u001b[0martist\u001b[0m\u001b[0;34m,\u001b[0m \u001b[0mrenderer\u001b[0m\u001b[0;34m,\u001b[0m \u001b[0;34m*\u001b[0m\u001b[0margs\u001b[0m\u001b[0;34m,\u001b[0m \u001b[0;34m**\u001b[0m\u001b[0mkwargs\u001b[0m\u001b[0;34m)\u001b[0m\u001b[0;34m\u001b[0m\u001b[0;34m\u001b[0m\u001b[0m\n\u001b[0m\u001b[1;32m     39\u001b[0m         \u001b[0;32mfinally\u001b[0m\u001b[0;34m:\u001b[0m\u001b[0;34m\u001b[0m\u001b[0;34m\u001b[0m\u001b[0m\n\u001b[1;32m     40\u001b[0m             \u001b[0;32mif\u001b[0m \u001b[0martist\u001b[0m\u001b[0;34m.\u001b[0m\u001b[0mget_agg_filter\u001b[0m\u001b[0;34m(\u001b[0m\u001b[0;34m)\u001b[0m \u001b[0;32mis\u001b[0m \u001b[0;32mnot\u001b[0m \u001b[0;32mNone\u001b[0m\u001b[0;34m:\u001b[0m\u001b[0;34m\u001b[0m\u001b[0;34m\u001b[0m\u001b[0m\n",
      "\u001b[0;32m/home/x1/.local/lib/python3.6/site-packages/matplotlib/lines.py\u001b[0m in \u001b[0;36mdraw\u001b[0;34m(self, renderer)\u001b[0m\n\u001b[1;32m    781\u001b[0m                 \u001b[0mself\u001b[0m\u001b[0;34m.\u001b[0m\u001b[0m_set_gc_clip\u001b[0m\u001b[0;34m(\u001b[0m\u001b[0mgc\u001b[0m\u001b[0;34m)\u001b[0m\u001b[0;34m\u001b[0m\u001b[0;34m\u001b[0m\u001b[0m\n\u001b[1;32m    782\u001b[0m \u001b[0;34m\u001b[0m\u001b[0m\n\u001b[0;32m--> 783\u001b[0;31m                 \u001b[0mlc_rgba\u001b[0m \u001b[0;34m=\u001b[0m \u001b[0mmcolors\u001b[0m\u001b[0;34m.\u001b[0m\u001b[0mto_rgba\u001b[0m\u001b[0;34m(\u001b[0m\u001b[0mself\u001b[0m\u001b[0;34m.\u001b[0m\u001b[0m_color\u001b[0m\u001b[0;34m,\u001b[0m \u001b[0mself\u001b[0m\u001b[0;34m.\u001b[0m\u001b[0m_alpha\u001b[0m\u001b[0;34m)\u001b[0m\u001b[0;34m\u001b[0m\u001b[0;34m\u001b[0m\u001b[0m\n\u001b[0m\u001b[1;32m    784\u001b[0m                 \u001b[0mgc\u001b[0m\u001b[0;34m.\u001b[0m\u001b[0mset_foreground\u001b[0m\u001b[0;34m(\u001b[0m\u001b[0mlc_rgba\u001b[0m\u001b[0;34m,\u001b[0m \u001b[0misRGBA\u001b[0m\u001b[0;34m=\u001b[0m\u001b[0;32mTrue\u001b[0m\u001b[0;34m)\u001b[0m\u001b[0;34m\u001b[0m\u001b[0;34m\u001b[0m\u001b[0m\n\u001b[1;32m    785\u001b[0m \u001b[0;34m\u001b[0m\u001b[0m\n",
      "\u001b[0;32m/home/x1/.local/lib/python3.6/site-packages/matplotlib/colors.py\u001b[0m in \u001b[0;36mto_rgba\u001b[0;34m(c, alpha)\u001b[0m\n\u001b[1;32m    175\u001b[0m         \u001b[0mrgba\u001b[0m \u001b[0;34m=\u001b[0m \u001b[0;32mNone\u001b[0m\u001b[0;34m\u001b[0m\u001b[0;34m\u001b[0m\u001b[0m\n\u001b[1;32m    176\u001b[0m     \u001b[0;32mif\u001b[0m \u001b[0mrgba\u001b[0m \u001b[0;32mis\u001b[0m \u001b[0;32mNone\u001b[0m\u001b[0;34m:\u001b[0m  \u001b[0;31m# Suppress exception chaining of cache lookup failure.\u001b[0m\u001b[0;34m\u001b[0m\u001b[0;34m\u001b[0m\u001b[0m\n\u001b[0;32m--> 177\u001b[0;31m         \u001b[0mrgba\u001b[0m \u001b[0;34m=\u001b[0m \u001b[0m_to_rgba_no_colorcycle\u001b[0m\u001b[0;34m(\u001b[0m\u001b[0mc\u001b[0m\u001b[0;34m,\u001b[0m \u001b[0malpha\u001b[0m\u001b[0;34m)\u001b[0m\u001b[0;34m\u001b[0m\u001b[0;34m\u001b[0m\u001b[0m\n\u001b[0m\u001b[1;32m    178\u001b[0m         \u001b[0;32mtry\u001b[0m\u001b[0;34m:\u001b[0m\u001b[0;34m\u001b[0m\u001b[0;34m\u001b[0m\u001b[0m\n\u001b[1;32m    179\u001b[0m             \u001b[0m_colors_full_map\u001b[0m\u001b[0;34m.\u001b[0m\u001b[0mcache\u001b[0m\u001b[0;34m[\u001b[0m\u001b[0mc\u001b[0m\u001b[0;34m,\u001b[0m \u001b[0malpha\u001b[0m\u001b[0;34m]\u001b[0m \u001b[0;34m=\u001b[0m \u001b[0mrgba\u001b[0m\u001b[0;34m\u001b[0m\u001b[0;34m\u001b[0m\u001b[0m\n",
      "\u001b[0;32m/home/x1/.local/lib/python3.6/site-packages/matplotlib/colors.py\u001b[0m in \u001b[0;36m_to_rgba_no_colorcycle\u001b[0;34m(c, alpha)\u001b[0m\n\u001b[1;32m    238\u001b[0m         \u001b[0;31m# float)` and `np.array(...).astype(float)` all convert \"0.5\" to 0.5.\u001b[0m\u001b[0;34m\u001b[0m\u001b[0;34m\u001b[0m\u001b[0;34m\u001b[0m\u001b[0m\n\u001b[1;32m    239\u001b[0m         \u001b[0;31m# Test dimensionality to reject single floats.\u001b[0m\u001b[0;34m\u001b[0m\u001b[0;34m\u001b[0m\u001b[0;34m\u001b[0m\u001b[0m\n\u001b[0;32m--> 240\u001b[0;31m         \u001b[0;32mraise\u001b[0m \u001b[0mValueError\u001b[0m\u001b[0;34m(\u001b[0m\u001b[0;34m\"Invalid RGBA argument: {!r}\"\u001b[0m\u001b[0;34m.\u001b[0m\u001b[0mformat\u001b[0m\u001b[0;34m(\u001b[0m\u001b[0morig_c\u001b[0m\u001b[0;34m)\u001b[0m\u001b[0;34m)\u001b[0m\u001b[0;34m\u001b[0m\u001b[0;34m\u001b[0m\u001b[0m\n\u001b[0m\u001b[1;32m    241\u001b[0m     \u001b[0;31m# Return a tuple to prevent the cached value from being modified.\u001b[0m\u001b[0;34m\u001b[0m\u001b[0;34m\u001b[0m\u001b[0;34m\u001b[0m\u001b[0m\n\u001b[1;32m    242\u001b[0m     \u001b[0mc\u001b[0m \u001b[0;34m=\u001b[0m \u001b[0mtuple\u001b[0m\u001b[0;34m(\u001b[0m\u001b[0mc\u001b[0m\u001b[0;34m.\u001b[0m\u001b[0mastype\u001b[0m\u001b[0;34m(\u001b[0m\u001b[0mfloat\u001b[0m\u001b[0;34m)\u001b[0m\u001b[0;34m)\u001b[0m\u001b[0;34m\u001b[0m\u001b[0;34m\u001b[0m\u001b[0m\n",
      "\u001b[0;31mValueError\u001b[0m: Invalid RGBA argument: ['red', 'blue']"
     ]
    },
    {
     "ename": "ValueError",
     "evalue": "Invalid RGBA argument: ['red', 'blue']",
     "output_type": "error",
     "traceback": [
      "\u001b[0;31m---------------------------------------------------------------------------\u001b[0m",
      "\u001b[0;31mValueError\u001b[0m                                Traceback (most recent call last)",
      "\u001b[0;32m/usr/lib/python3/dist-packages/IPython/core/formatters.py\u001b[0m in \u001b[0;36m__call__\u001b[0;34m(self, obj)\u001b[0m\n\u001b[1;32m    332\u001b[0m                 \u001b[0;32mpass\u001b[0m\u001b[0;34m\u001b[0m\u001b[0;34m\u001b[0m\u001b[0m\n\u001b[1;32m    333\u001b[0m             \u001b[0;32melse\u001b[0m\u001b[0;34m:\u001b[0m\u001b[0;34m\u001b[0m\u001b[0;34m\u001b[0m\u001b[0m\n\u001b[0;32m--> 334\u001b[0;31m                 \u001b[0;32mreturn\u001b[0m \u001b[0mprinter\u001b[0m\u001b[0;34m(\u001b[0m\u001b[0mobj\u001b[0m\u001b[0;34m)\u001b[0m\u001b[0;34m\u001b[0m\u001b[0;34m\u001b[0m\u001b[0m\n\u001b[0m\u001b[1;32m    335\u001b[0m             \u001b[0;31m# Finally look for special method names\u001b[0m\u001b[0;34m\u001b[0m\u001b[0;34m\u001b[0m\u001b[0;34m\u001b[0m\u001b[0m\n\u001b[1;32m    336\u001b[0m             \u001b[0mmethod\u001b[0m \u001b[0;34m=\u001b[0m \u001b[0mget_real_method\u001b[0m\u001b[0;34m(\u001b[0m\u001b[0mobj\u001b[0m\u001b[0;34m,\u001b[0m \u001b[0mself\u001b[0m\u001b[0;34m.\u001b[0m\u001b[0mprint_method\u001b[0m\u001b[0;34m)\u001b[0m\u001b[0;34m\u001b[0m\u001b[0;34m\u001b[0m\u001b[0m\n",
      "\u001b[0;32m/usr/lib/python3/dist-packages/IPython/core/pylabtools.py\u001b[0m in \u001b[0;36m<lambda>\u001b[0;34m(fig)\u001b[0m\n\u001b[1;32m    239\u001b[0m \u001b[0;34m\u001b[0m\u001b[0m\n\u001b[1;32m    240\u001b[0m     \u001b[0;32mif\u001b[0m \u001b[0;34m'png'\u001b[0m \u001b[0;32min\u001b[0m \u001b[0mformats\u001b[0m\u001b[0;34m:\u001b[0m\u001b[0;34m\u001b[0m\u001b[0;34m\u001b[0m\u001b[0m\n\u001b[0;32m--> 241\u001b[0;31m         \u001b[0mpng_formatter\u001b[0m\u001b[0;34m.\u001b[0m\u001b[0mfor_type\u001b[0m\u001b[0;34m(\u001b[0m\u001b[0mFigure\u001b[0m\u001b[0;34m,\u001b[0m \u001b[0;32mlambda\u001b[0m \u001b[0mfig\u001b[0m\u001b[0;34m:\u001b[0m \u001b[0mprint_figure\u001b[0m\u001b[0;34m(\u001b[0m\u001b[0mfig\u001b[0m\u001b[0;34m,\u001b[0m \u001b[0;34m'png'\u001b[0m\u001b[0;34m,\u001b[0m \u001b[0;34m**\u001b[0m\u001b[0mkwargs\u001b[0m\u001b[0;34m)\u001b[0m\u001b[0;34m)\u001b[0m\u001b[0;34m\u001b[0m\u001b[0;34m\u001b[0m\u001b[0m\n\u001b[0m\u001b[1;32m    242\u001b[0m     \u001b[0;32mif\u001b[0m \u001b[0;34m'retina'\u001b[0m \u001b[0;32min\u001b[0m \u001b[0mformats\u001b[0m \u001b[0;32mor\u001b[0m \u001b[0;34m'png2x'\u001b[0m \u001b[0;32min\u001b[0m \u001b[0mformats\u001b[0m\u001b[0;34m:\u001b[0m\u001b[0;34m\u001b[0m\u001b[0;34m\u001b[0m\u001b[0m\n\u001b[1;32m    243\u001b[0m         \u001b[0mpng_formatter\u001b[0m\u001b[0;34m.\u001b[0m\u001b[0mfor_type\u001b[0m\u001b[0;34m(\u001b[0m\u001b[0mFigure\u001b[0m\u001b[0;34m,\u001b[0m \u001b[0;32mlambda\u001b[0m \u001b[0mfig\u001b[0m\u001b[0;34m:\u001b[0m \u001b[0mretina_figure\u001b[0m\u001b[0;34m(\u001b[0m\u001b[0mfig\u001b[0m\u001b[0;34m,\u001b[0m \u001b[0;34m**\u001b[0m\u001b[0mkwargs\u001b[0m\u001b[0;34m)\u001b[0m\u001b[0;34m)\u001b[0m\u001b[0;34m\u001b[0m\u001b[0;34m\u001b[0m\u001b[0m\n",
      "\u001b[0;32m/usr/lib/python3/dist-packages/IPython/core/pylabtools.py\u001b[0m in \u001b[0;36mprint_figure\u001b[0;34m(fig, fmt, bbox_inches, **kwargs)\u001b[0m\n\u001b[1;32m    123\u001b[0m \u001b[0;34m\u001b[0m\u001b[0m\n\u001b[1;32m    124\u001b[0m     \u001b[0mbytes_io\u001b[0m \u001b[0;34m=\u001b[0m \u001b[0mBytesIO\u001b[0m\u001b[0;34m(\u001b[0m\u001b[0;34m)\u001b[0m\u001b[0;34m\u001b[0m\u001b[0;34m\u001b[0m\u001b[0m\n\u001b[0;32m--> 125\u001b[0;31m     \u001b[0mfig\u001b[0m\u001b[0;34m.\u001b[0m\u001b[0mcanvas\u001b[0m\u001b[0;34m.\u001b[0m\u001b[0mprint_figure\u001b[0m\u001b[0;34m(\u001b[0m\u001b[0mbytes_io\u001b[0m\u001b[0;34m,\u001b[0m \u001b[0;34m**\u001b[0m\u001b[0mkw\u001b[0m\u001b[0;34m)\u001b[0m\u001b[0;34m\u001b[0m\u001b[0;34m\u001b[0m\u001b[0m\n\u001b[0m\u001b[1;32m    126\u001b[0m     \u001b[0mdata\u001b[0m \u001b[0;34m=\u001b[0m \u001b[0mbytes_io\u001b[0m\u001b[0;34m.\u001b[0m\u001b[0mgetvalue\u001b[0m\u001b[0;34m(\u001b[0m\u001b[0;34m)\u001b[0m\u001b[0;34m\u001b[0m\u001b[0;34m\u001b[0m\u001b[0m\n\u001b[1;32m    127\u001b[0m     \u001b[0;32mif\u001b[0m \u001b[0mfmt\u001b[0m \u001b[0;34m==\u001b[0m \u001b[0;34m'svg'\u001b[0m\u001b[0;34m:\u001b[0m\u001b[0;34m\u001b[0m\u001b[0;34m\u001b[0m\u001b[0m\n",
      "\u001b[0;32m/home/x1/.local/lib/python3.6/site-packages/matplotlib/backend_bases.py\u001b[0m in \u001b[0;36mprint_figure\u001b[0;34m(self, filename, dpi, facecolor, edgecolor, orientation, format, bbox_inches, **kwargs)\u001b[0m\n\u001b[1;32m   2061\u001b[0m                         \u001b[0morientation\u001b[0m\u001b[0;34m=\u001b[0m\u001b[0morientation\u001b[0m\u001b[0;34m,\u001b[0m\u001b[0;34m\u001b[0m\u001b[0;34m\u001b[0m\u001b[0m\n\u001b[1;32m   2062\u001b[0m                         \u001b[0mdryrun\u001b[0m\u001b[0;34m=\u001b[0m\u001b[0;32mTrue\u001b[0m\u001b[0;34m,\u001b[0m\u001b[0;34m\u001b[0m\u001b[0;34m\u001b[0m\u001b[0m\n\u001b[0;32m-> 2063\u001b[0;31m                         **kwargs)\n\u001b[0m\u001b[1;32m   2064\u001b[0m                     \u001b[0mrenderer\u001b[0m \u001b[0;34m=\u001b[0m \u001b[0mself\u001b[0m\u001b[0;34m.\u001b[0m\u001b[0mfigure\u001b[0m\u001b[0;34m.\u001b[0m\u001b[0m_cachedRenderer\u001b[0m\u001b[0;34m\u001b[0m\u001b[0;34m\u001b[0m\u001b[0m\n\u001b[1;32m   2065\u001b[0m                     \u001b[0mbbox_artists\u001b[0m \u001b[0;34m=\u001b[0m \u001b[0mkwargs\u001b[0m\u001b[0;34m.\u001b[0m\u001b[0mpop\u001b[0m\u001b[0;34m(\u001b[0m\u001b[0;34m\"bbox_extra_artists\"\u001b[0m\u001b[0;34m,\u001b[0m \u001b[0;32mNone\u001b[0m\u001b[0;34m)\u001b[0m\u001b[0;34m\u001b[0m\u001b[0;34m\u001b[0m\u001b[0m\n",
      "\u001b[0;32m/home/x1/.local/lib/python3.6/site-packages/matplotlib/backends/backend_agg.py\u001b[0m in \u001b[0;36mprint_png\u001b[0;34m(self, filename_or_obj, metadata, pil_kwargs, *args, **kwargs)\u001b[0m\n\u001b[1;32m    525\u001b[0m \u001b[0;34m\u001b[0m\u001b[0m\n\u001b[1;32m    526\u001b[0m         \u001b[0;32melse\u001b[0m\u001b[0;34m:\u001b[0m\u001b[0;34m\u001b[0m\u001b[0;34m\u001b[0m\u001b[0m\n\u001b[0;32m--> 527\u001b[0;31m             \u001b[0mFigureCanvasAgg\u001b[0m\u001b[0;34m.\u001b[0m\u001b[0mdraw\u001b[0m\u001b[0;34m(\u001b[0m\u001b[0mself\u001b[0m\u001b[0;34m)\u001b[0m\u001b[0;34m\u001b[0m\u001b[0;34m\u001b[0m\u001b[0m\n\u001b[0m\u001b[1;32m    528\u001b[0m             \u001b[0mrenderer\u001b[0m \u001b[0;34m=\u001b[0m \u001b[0mself\u001b[0m\u001b[0;34m.\u001b[0m\u001b[0mget_renderer\u001b[0m\u001b[0;34m(\u001b[0m\u001b[0;34m)\u001b[0m\u001b[0;34m\u001b[0m\u001b[0;34m\u001b[0m\u001b[0m\n\u001b[1;32m    529\u001b[0m             \u001b[0;32mwith\u001b[0m \u001b[0mcbook\u001b[0m\u001b[0;34m.\u001b[0m\u001b[0m_setattr_cm\u001b[0m\u001b[0;34m(\u001b[0m\u001b[0mrenderer\u001b[0m\u001b[0;34m,\u001b[0m \u001b[0mdpi\u001b[0m\u001b[0;34m=\u001b[0m\u001b[0mself\u001b[0m\u001b[0;34m.\u001b[0m\u001b[0mfigure\u001b[0m\u001b[0;34m.\u001b[0m\u001b[0mdpi\u001b[0m\u001b[0;34m)\u001b[0m\u001b[0;34m,\u001b[0m\u001b[0;31m \u001b[0m\u001b[0;31m\\\u001b[0m\u001b[0;34m\u001b[0m\u001b[0;34m\u001b[0m\u001b[0m\n",
      "\u001b[0;32m/home/x1/.local/lib/python3.6/site-packages/matplotlib/backends/backend_agg.py\u001b[0m in \u001b[0;36mdraw\u001b[0;34m(self)\u001b[0m\n\u001b[1;32m    386\u001b[0m         \u001b[0mself\u001b[0m\u001b[0;34m.\u001b[0m\u001b[0mrenderer\u001b[0m \u001b[0;34m=\u001b[0m \u001b[0mself\u001b[0m\u001b[0;34m.\u001b[0m\u001b[0mget_renderer\u001b[0m\u001b[0;34m(\u001b[0m\u001b[0mcleared\u001b[0m\u001b[0;34m=\u001b[0m\u001b[0;32mTrue\u001b[0m\u001b[0;34m)\u001b[0m\u001b[0;34m\u001b[0m\u001b[0;34m\u001b[0m\u001b[0m\n\u001b[1;32m    387\u001b[0m         \u001b[0;32mwith\u001b[0m \u001b[0mRendererAgg\u001b[0m\u001b[0;34m.\u001b[0m\u001b[0mlock\u001b[0m\u001b[0;34m:\u001b[0m\u001b[0;34m\u001b[0m\u001b[0;34m\u001b[0m\u001b[0m\n\u001b[0;32m--> 388\u001b[0;31m             \u001b[0mself\u001b[0m\u001b[0;34m.\u001b[0m\u001b[0mfigure\u001b[0m\u001b[0;34m.\u001b[0m\u001b[0mdraw\u001b[0m\u001b[0;34m(\u001b[0m\u001b[0mself\u001b[0m\u001b[0;34m.\u001b[0m\u001b[0mrenderer\u001b[0m\u001b[0;34m)\u001b[0m\u001b[0;34m\u001b[0m\u001b[0;34m\u001b[0m\u001b[0m\n\u001b[0m\u001b[1;32m    389\u001b[0m             \u001b[0;31m# A GUI class may be need to update a window using this draw, so\u001b[0m\u001b[0;34m\u001b[0m\u001b[0;34m\u001b[0m\u001b[0;34m\u001b[0m\u001b[0m\n\u001b[1;32m    390\u001b[0m             \u001b[0;31m# don't forget to call the superclass.\u001b[0m\u001b[0;34m\u001b[0m\u001b[0;34m\u001b[0m\u001b[0;34m\u001b[0m\u001b[0m\n",
      "\u001b[0;32m/home/x1/.local/lib/python3.6/site-packages/matplotlib/artist.py\u001b[0m in \u001b[0;36mdraw_wrapper\u001b[0;34m(artist, renderer, *args, **kwargs)\u001b[0m\n\u001b[1;32m     36\u001b[0m                 \u001b[0mrenderer\u001b[0m\u001b[0;34m.\u001b[0m\u001b[0mstart_filter\u001b[0m\u001b[0;34m(\u001b[0m\u001b[0;34m)\u001b[0m\u001b[0;34m\u001b[0m\u001b[0;34m\u001b[0m\u001b[0m\n\u001b[1;32m     37\u001b[0m \u001b[0;34m\u001b[0m\u001b[0m\n\u001b[0;32m---> 38\u001b[0;31m             \u001b[0;32mreturn\u001b[0m \u001b[0mdraw\u001b[0m\u001b[0;34m(\u001b[0m\u001b[0martist\u001b[0m\u001b[0;34m,\u001b[0m \u001b[0mrenderer\u001b[0m\u001b[0;34m,\u001b[0m \u001b[0;34m*\u001b[0m\u001b[0margs\u001b[0m\u001b[0;34m,\u001b[0m \u001b[0;34m**\u001b[0m\u001b[0mkwargs\u001b[0m\u001b[0;34m)\u001b[0m\u001b[0;34m\u001b[0m\u001b[0;34m\u001b[0m\u001b[0m\n\u001b[0m\u001b[1;32m     39\u001b[0m         \u001b[0;32mfinally\u001b[0m\u001b[0;34m:\u001b[0m\u001b[0;34m\u001b[0m\u001b[0;34m\u001b[0m\u001b[0m\n\u001b[1;32m     40\u001b[0m             \u001b[0;32mif\u001b[0m \u001b[0martist\u001b[0m\u001b[0;34m.\u001b[0m\u001b[0mget_agg_filter\u001b[0m\u001b[0;34m(\u001b[0m\u001b[0;34m)\u001b[0m \u001b[0;32mis\u001b[0m \u001b[0;32mnot\u001b[0m \u001b[0;32mNone\u001b[0m\u001b[0;34m:\u001b[0m\u001b[0;34m\u001b[0m\u001b[0;34m\u001b[0m\u001b[0m\n",
      "\u001b[0;32m/home/x1/.local/lib/python3.6/site-packages/matplotlib/figure.py\u001b[0m in \u001b[0;36mdraw\u001b[0;34m(self, renderer)\u001b[0m\n\u001b[1;32m   1707\u001b[0m             \u001b[0mself\u001b[0m\u001b[0;34m.\u001b[0m\u001b[0mpatch\u001b[0m\u001b[0;34m.\u001b[0m\u001b[0mdraw\u001b[0m\u001b[0;34m(\u001b[0m\u001b[0mrenderer\u001b[0m\u001b[0;34m)\u001b[0m\u001b[0;34m\u001b[0m\u001b[0;34m\u001b[0m\u001b[0m\n\u001b[1;32m   1708\u001b[0m             mimage._draw_list_compositing_images(\n\u001b[0;32m-> 1709\u001b[0;31m                 renderer, self, artists, self.suppressComposite)\n\u001b[0m\u001b[1;32m   1710\u001b[0m \u001b[0;34m\u001b[0m\u001b[0m\n\u001b[1;32m   1711\u001b[0m             \u001b[0mrenderer\u001b[0m\u001b[0;34m.\u001b[0m\u001b[0mclose_group\u001b[0m\u001b[0;34m(\u001b[0m\u001b[0;34m'figure'\u001b[0m\u001b[0;34m)\u001b[0m\u001b[0;34m\u001b[0m\u001b[0;34m\u001b[0m\u001b[0m\n",
      "\u001b[0;32m/home/x1/.local/lib/python3.6/site-packages/matplotlib/image.py\u001b[0m in \u001b[0;36m_draw_list_compositing_images\u001b[0;34m(renderer, parent, artists, suppress_composite)\u001b[0m\n\u001b[1;32m    133\u001b[0m     \u001b[0;32mif\u001b[0m \u001b[0mnot_composite\u001b[0m \u001b[0;32mor\u001b[0m \u001b[0;32mnot\u001b[0m \u001b[0mhas_images\u001b[0m\u001b[0;34m:\u001b[0m\u001b[0;34m\u001b[0m\u001b[0;34m\u001b[0m\u001b[0m\n\u001b[1;32m    134\u001b[0m         \u001b[0;32mfor\u001b[0m \u001b[0ma\u001b[0m \u001b[0;32min\u001b[0m \u001b[0martists\u001b[0m\u001b[0;34m:\u001b[0m\u001b[0;34m\u001b[0m\u001b[0;34m\u001b[0m\u001b[0m\n\u001b[0;32m--> 135\u001b[0;31m             \u001b[0ma\u001b[0m\u001b[0;34m.\u001b[0m\u001b[0mdraw\u001b[0m\u001b[0;34m(\u001b[0m\u001b[0mrenderer\u001b[0m\u001b[0;34m)\u001b[0m\u001b[0;34m\u001b[0m\u001b[0;34m\u001b[0m\u001b[0m\n\u001b[0m\u001b[1;32m    136\u001b[0m     \u001b[0;32melse\u001b[0m\u001b[0;34m:\u001b[0m\u001b[0;34m\u001b[0m\u001b[0;34m\u001b[0m\u001b[0m\n\u001b[1;32m    137\u001b[0m         \u001b[0;31m# Composite any adjacent images together\u001b[0m\u001b[0;34m\u001b[0m\u001b[0;34m\u001b[0m\u001b[0;34m\u001b[0m\u001b[0m\n",
      "\u001b[0;32m/home/x1/.local/lib/python3.6/site-packages/matplotlib/artist.py\u001b[0m in \u001b[0;36mdraw_wrapper\u001b[0;34m(artist, renderer, *args, **kwargs)\u001b[0m\n\u001b[1;32m     36\u001b[0m                 \u001b[0mrenderer\u001b[0m\u001b[0;34m.\u001b[0m\u001b[0mstart_filter\u001b[0m\u001b[0;34m(\u001b[0m\u001b[0;34m)\u001b[0m\u001b[0;34m\u001b[0m\u001b[0;34m\u001b[0m\u001b[0m\n\u001b[1;32m     37\u001b[0m \u001b[0;34m\u001b[0m\u001b[0m\n\u001b[0;32m---> 38\u001b[0;31m             \u001b[0;32mreturn\u001b[0m \u001b[0mdraw\u001b[0m\u001b[0;34m(\u001b[0m\u001b[0martist\u001b[0m\u001b[0;34m,\u001b[0m \u001b[0mrenderer\u001b[0m\u001b[0;34m,\u001b[0m \u001b[0;34m*\u001b[0m\u001b[0margs\u001b[0m\u001b[0;34m,\u001b[0m \u001b[0;34m**\u001b[0m\u001b[0mkwargs\u001b[0m\u001b[0;34m)\u001b[0m\u001b[0;34m\u001b[0m\u001b[0;34m\u001b[0m\u001b[0m\n\u001b[0m\u001b[1;32m     39\u001b[0m         \u001b[0;32mfinally\u001b[0m\u001b[0;34m:\u001b[0m\u001b[0;34m\u001b[0m\u001b[0;34m\u001b[0m\u001b[0m\n\u001b[1;32m     40\u001b[0m             \u001b[0;32mif\u001b[0m \u001b[0martist\u001b[0m\u001b[0;34m.\u001b[0m\u001b[0mget_agg_filter\u001b[0m\u001b[0;34m(\u001b[0m\u001b[0;34m)\u001b[0m \u001b[0;32mis\u001b[0m \u001b[0;32mnot\u001b[0m \u001b[0;32mNone\u001b[0m\u001b[0;34m:\u001b[0m\u001b[0;34m\u001b[0m\u001b[0;34m\u001b[0m\u001b[0m\n",
      "\u001b[0;32m/home/x1/.local/lib/python3.6/site-packages/matplotlib/axes/_base.py\u001b[0m in \u001b[0;36mdraw\u001b[0;34m(self, renderer, inframe)\u001b[0m\n\u001b[1;32m   2645\u001b[0m             \u001b[0mrenderer\u001b[0m\u001b[0;34m.\u001b[0m\u001b[0mstop_rasterizing\u001b[0m\u001b[0;34m(\u001b[0m\u001b[0;34m)\u001b[0m\u001b[0;34m\u001b[0m\u001b[0;34m\u001b[0m\u001b[0m\n\u001b[1;32m   2646\u001b[0m \u001b[0;34m\u001b[0m\u001b[0m\n\u001b[0;32m-> 2647\u001b[0;31m         \u001b[0mmimage\u001b[0m\u001b[0;34m.\u001b[0m\u001b[0m_draw_list_compositing_images\u001b[0m\u001b[0;34m(\u001b[0m\u001b[0mrenderer\u001b[0m\u001b[0;34m,\u001b[0m \u001b[0mself\u001b[0m\u001b[0;34m,\u001b[0m \u001b[0martists\u001b[0m\u001b[0;34m)\u001b[0m\u001b[0;34m\u001b[0m\u001b[0;34m\u001b[0m\u001b[0m\n\u001b[0m\u001b[1;32m   2648\u001b[0m \u001b[0;34m\u001b[0m\u001b[0m\n\u001b[1;32m   2649\u001b[0m         \u001b[0mrenderer\u001b[0m\u001b[0;34m.\u001b[0m\u001b[0mclose_group\u001b[0m\u001b[0;34m(\u001b[0m\u001b[0;34m'axes'\u001b[0m\u001b[0;34m)\u001b[0m\u001b[0;34m\u001b[0m\u001b[0;34m\u001b[0m\u001b[0m\n",
      "\u001b[0;32m/home/x1/.local/lib/python3.6/site-packages/matplotlib/image.py\u001b[0m in \u001b[0;36m_draw_list_compositing_images\u001b[0;34m(renderer, parent, artists, suppress_composite)\u001b[0m\n\u001b[1;32m    133\u001b[0m     \u001b[0;32mif\u001b[0m \u001b[0mnot_composite\u001b[0m \u001b[0;32mor\u001b[0m \u001b[0;32mnot\u001b[0m \u001b[0mhas_images\u001b[0m\u001b[0;34m:\u001b[0m\u001b[0;34m\u001b[0m\u001b[0;34m\u001b[0m\u001b[0m\n\u001b[1;32m    134\u001b[0m         \u001b[0;32mfor\u001b[0m \u001b[0ma\u001b[0m \u001b[0;32min\u001b[0m \u001b[0martists\u001b[0m\u001b[0;34m:\u001b[0m\u001b[0;34m\u001b[0m\u001b[0;34m\u001b[0m\u001b[0m\n\u001b[0;32m--> 135\u001b[0;31m             \u001b[0ma\u001b[0m\u001b[0;34m.\u001b[0m\u001b[0mdraw\u001b[0m\u001b[0;34m(\u001b[0m\u001b[0mrenderer\u001b[0m\u001b[0;34m)\u001b[0m\u001b[0;34m\u001b[0m\u001b[0;34m\u001b[0m\u001b[0m\n\u001b[0m\u001b[1;32m    136\u001b[0m     \u001b[0;32melse\u001b[0m\u001b[0;34m:\u001b[0m\u001b[0;34m\u001b[0m\u001b[0;34m\u001b[0m\u001b[0m\n\u001b[1;32m    137\u001b[0m         \u001b[0;31m# Composite any adjacent images together\u001b[0m\u001b[0;34m\u001b[0m\u001b[0;34m\u001b[0m\u001b[0;34m\u001b[0m\u001b[0m\n",
      "\u001b[0;32m/home/x1/.local/lib/python3.6/site-packages/matplotlib/artist.py\u001b[0m in \u001b[0;36mdraw_wrapper\u001b[0;34m(artist, renderer, *args, **kwargs)\u001b[0m\n\u001b[1;32m     36\u001b[0m                 \u001b[0mrenderer\u001b[0m\u001b[0;34m.\u001b[0m\u001b[0mstart_filter\u001b[0m\u001b[0;34m(\u001b[0m\u001b[0;34m)\u001b[0m\u001b[0;34m\u001b[0m\u001b[0;34m\u001b[0m\u001b[0m\n\u001b[1;32m     37\u001b[0m \u001b[0;34m\u001b[0m\u001b[0m\n\u001b[0;32m---> 38\u001b[0;31m             \u001b[0;32mreturn\u001b[0m \u001b[0mdraw\u001b[0m\u001b[0;34m(\u001b[0m\u001b[0martist\u001b[0m\u001b[0;34m,\u001b[0m \u001b[0mrenderer\u001b[0m\u001b[0;34m,\u001b[0m \u001b[0;34m*\u001b[0m\u001b[0margs\u001b[0m\u001b[0;34m,\u001b[0m \u001b[0;34m**\u001b[0m\u001b[0mkwargs\u001b[0m\u001b[0;34m)\u001b[0m\u001b[0;34m\u001b[0m\u001b[0;34m\u001b[0m\u001b[0m\n\u001b[0m\u001b[1;32m     39\u001b[0m         \u001b[0;32mfinally\u001b[0m\u001b[0;34m:\u001b[0m\u001b[0;34m\u001b[0m\u001b[0;34m\u001b[0m\u001b[0m\n\u001b[1;32m     40\u001b[0m             \u001b[0;32mif\u001b[0m \u001b[0martist\u001b[0m\u001b[0;34m.\u001b[0m\u001b[0mget_agg_filter\u001b[0m\u001b[0;34m(\u001b[0m\u001b[0;34m)\u001b[0m \u001b[0;32mis\u001b[0m \u001b[0;32mnot\u001b[0m \u001b[0;32mNone\u001b[0m\u001b[0;34m:\u001b[0m\u001b[0;34m\u001b[0m\u001b[0;34m\u001b[0m\u001b[0m\n",
      "\u001b[0;32m/home/x1/.local/lib/python3.6/site-packages/matplotlib/lines.py\u001b[0m in \u001b[0;36mdraw\u001b[0;34m(self, renderer)\u001b[0m\n\u001b[1;32m    781\u001b[0m                 \u001b[0mself\u001b[0m\u001b[0;34m.\u001b[0m\u001b[0m_set_gc_clip\u001b[0m\u001b[0;34m(\u001b[0m\u001b[0mgc\u001b[0m\u001b[0;34m)\u001b[0m\u001b[0;34m\u001b[0m\u001b[0;34m\u001b[0m\u001b[0m\n\u001b[1;32m    782\u001b[0m \u001b[0;34m\u001b[0m\u001b[0m\n\u001b[0;32m--> 783\u001b[0;31m                 \u001b[0mlc_rgba\u001b[0m \u001b[0;34m=\u001b[0m \u001b[0mmcolors\u001b[0m\u001b[0;34m.\u001b[0m\u001b[0mto_rgba\u001b[0m\u001b[0;34m(\u001b[0m\u001b[0mself\u001b[0m\u001b[0;34m.\u001b[0m\u001b[0m_color\u001b[0m\u001b[0;34m,\u001b[0m \u001b[0mself\u001b[0m\u001b[0;34m.\u001b[0m\u001b[0m_alpha\u001b[0m\u001b[0;34m)\u001b[0m\u001b[0;34m\u001b[0m\u001b[0;34m\u001b[0m\u001b[0m\n\u001b[0m\u001b[1;32m    784\u001b[0m                 \u001b[0mgc\u001b[0m\u001b[0;34m.\u001b[0m\u001b[0mset_foreground\u001b[0m\u001b[0;34m(\u001b[0m\u001b[0mlc_rgba\u001b[0m\u001b[0;34m,\u001b[0m \u001b[0misRGBA\u001b[0m\u001b[0;34m=\u001b[0m\u001b[0;32mTrue\u001b[0m\u001b[0;34m)\u001b[0m\u001b[0;34m\u001b[0m\u001b[0;34m\u001b[0m\u001b[0m\n\u001b[1;32m    785\u001b[0m \u001b[0;34m\u001b[0m\u001b[0m\n",
      "\u001b[0;32m/home/x1/.local/lib/python3.6/site-packages/matplotlib/colors.py\u001b[0m in \u001b[0;36mto_rgba\u001b[0;34m(c, alpha)\u001b[0m\n\u001b[1;32m    175\u001b[0m         \u001b[0mrgba\u001b[0m \u001b[0;34m=\u001b[0m \u001b[0;32mNone\u001b[0m\u001b[0;34m\u001b[0m\u001b[0;34m\u001b[0m\u001b[0m\n\u001b[1;32m    176\u001b[0m     \u001b[0;32mif\u001b[0m \u001b[0mrgba\u001b[0m \u001b[0;32mis\u001b[0m \u001b[0;32mNone\u001b[0m\u001b[0;34m:\u001b[0m  \u001b[0;31m# Suppress exception chaining of cache lookup failure.\u001b[0m\u001b[0;34m\u001b[0m\u001b[0;34m\u001b[0m\u001b[0m\n\u001b[0;32m--> 177\u001b[0;31m         \u001b[0mrgba\u001b[0m \u001b[0;34m=\u001b[0m \u001b[0m_to_rgba_no_colorcycle\u001b[0m\u001b[0;34m(\u001b[0m\u001b[0mc\u001b[0m\u001b[0;34m,\u001b[0m \u001b[0malpha\u001b[0m\u001b[0;34m)\u001b[0m\u001b[0;34m\u001b[0m\u001b[0;34m\u001b[0m\u001b[0m\n\u001b[0m\u001b[1;32m    178\u001b[0m         \u001b[0;32mtry\u001b[0m\u001b[0;34m:\u001b[0m\u001b[0;34m\u001b[0m\u001b[0;34m\u001b[0m\u001b[0m\n\u001b[1;32m    179\u001b[0m             \u001b[0m_colors_full_map\u001b[0m\u001b[0;34m.\u001b[0m\u001b[0mcache\u001b[0m\u001b[0;34m[\u001b[0m\u001b[0mc\u001b[0m\u001b[0;34m,\u001b[0m \u001b[0malpha\u001b[0m\u001b[0;34m]\u001b[0m \u001b[0;34m=\u001b[0m \u001b[0mrgba\u001b[0m\u001b[0;34m\u001b[0m\u001b[0;34m\u001b[0m\u001b[0m\n",
      "\u001b[0;32m/home/x1/.local/lib/python3.6/site-packages/matplotlib/colors.py\u001b[0m in \u001b[0;36m_to_rgba_no_colorcycle\u001b[0;34m(c, alpha)\u001b[0m\n\u001b[1;32m    238\u001b[0m         \u001b[0;31m# float)` and `np.array(...).astype(float)` all convert \"0.5\" to 0.5.\u001b[0m\u001b[0;34m\u001b[0m\u001b[0;34m\u001b[0m\u001b[0;34m\u001b[0m\u001b[0m\n\u001b[1;32m    239\u001b[0m         \u001b[0;31m# Test dimensionality to reject single floats.\u001b[0m\u001b[0;34m\u001b[0m\u001b[0;34m\u001b[0m\u001b[0;34m\u001b[0m\u001b[0m\n\u001b[0;32m--> 240\u001b[0;31m         \u001b[0;32mraise\u001b[0m \u001b[0mValueError\u001b[0m\u001b[0;34m(\u001b[0m\u001b[0;34m\"Invalid RGBA argument: {!r}\"\u001b[0m\u001b[0;34m.\u001b[0m\u001b[0mformat\u001b[0m\u001b[0;34m(\u001b[0m\u001b[0morig_c\u001b[0m\u001b[0;34m)\u001b[0m\u001b[0;34m)\u001b[0m\u001b[0;34m\u001b[0m\u001b[0;34m\u001b[0m\u001b[0m\n\u001b[0m\u001b[1;32m    241\u001b[0m     \u001b[0;31m# Return a tuple to prevent the cached value from being modified.\u001b[0m\u001b[0;34m\u001b[0m\u001b[0;34m\u001b[0m\u001b[0;34m\u001b[0m\u001b[0m\n\u001b[1;32m    242\u001b[0m     \u001b[0mc\u001b[0m \u001b[0;34m=\u001b[0m \u001b[0mtuple\u001b[0m\u001b[0;34m(\u001b[0m\u001b[0mc\u001b[0m\u001b[0;34m.\u001b[0m\u001b[0mastype\u001b[0m\u001b[0;34m(\u001b[0m\u001b[0mfloat\u001b[0m\u001b[0;34m)\u001b[0m\u001b[0;34m)\u001b[0m\u001b[0;34m\u001b[0m\u001b[0;34m\u001b[0m\u001b[0m\n",
      "\u001b[0;31mValueError\u001b[0m: Invalid RGBA argument: ['red', 'blue']"
     ]
    },
    {
     "data": {
      "text/plain": [
       "<Figure size 432x288 with 1 Axes>"
      ]
     },
     "metadata": {},
     "output_type": "display_data"
    }
   ],
   "source": [
    "%matplotlib inline\n",
    "\n",
    "index = record_df.index.to_list()\n",
    "index = range(365)\n",
    "highs = record_df['TMIN'].values.tolist()\n",
    "lows  = record_df['TMAX'].values.tolist()\n",
    "\n",
    "plt.plot(index, highs, lows)\n",
    "plt.fill_between(index, highs, lows)\n",
    "\n"
   ]
  },
  {
   "cell_type": "code",
   "execution_count": 163,
   "metadata": {},
   "outputs": [
    {
     "data": {
      "text/plain": [
       "<matplotlib.collections.PathCollection at 0x7fcf1405c9e8>"
      ]
     },
     "execution_count": 163,
     "metadata": {},
     "output_type": "execute_result"
    },
    {
     "data": {
      "image/png": "[encoded data removed]",
      "text/plain": [
       "<Figure size 432x288 with 1 Axes>"
      ]
     },
     "metadata": {},
     "output_type": "display_data"
    }
   ],
   "source": [
    "import numpy as np\n",
    "\n",
    "high_ind = np.where(df_2015['TMAX'] > record_df['TMAX'])[0].tolist()\n",
    "low_ind  = np.where(df_2015['TMIN'] < record_df['TMIN'])[0].tolist()\n",
    "plt.scatter(low_ind, df_2015.iloc[low_ind]['TMIN'].values.tolist(),   c = 'blue')\n",
    "plt.scatter(high_ind, df_2015.iloc[high_ind]['TMAX'].values.tolist(), c = 'red')"
   ]
  },
  {
   "cell_type": "code",
   "execution_count": null,
   "metadata": {},
   "outputs": [],
   "source": []
  },
  {
   "cell_type": "code",
   "execution_count": null,
   "metadata": {},
   "outputs": [],
   "source": []
  },
  {
   "cell_type": "code",
   "execution_count": null,
   "metadata": {},
   "outputs": [],
   "source": []
  },
  {
   "cell_type": "code",
   "execution_count": null,
   "metadata": {},
   "outputs": [],
   "source": []
  },
  {
   "cell_type": "code",
   "execution_count": null,
   "metadata": {},
   "outputs": [],
   "source": []
  },
  {
   "cell_type": "code",
   "execution_count": null,
   "metadata": {},
   "outputs": [],
   "source": []
  },
  {
   "cell_type": "code",
   "execution_count": null,
   "metadata": {},
   "outputs": [],
   "source": []
  },
  {
   "cell_type": "code",
   "execution_count": null,
   "metadata": {},
   "outputs": [],
   "source": []
  },
  {
   "cell_type": "code",
   "execution_count": null,
   "metadata": {},
   "outputs": [],
   "source": []
  },
  {
   "cell_type": "code",
   "execution_count": null,
   "metadata": {},
   "outputs": [],
   "source": []
  },
  {
   "cell_type": "code",
   "execution_count": null,
   "metadata": {},
   "outputs": [],
   "source": []
  },
  {
   "cell_type": "code",
   "execution_count": null,
   "metadata": {},
   "outputs": [],
   "source": []
  },
  {
   "cell_type": "code",
   "execution_count": null,
   "metadata": {},
   "outputs": [],
   "source": []
  },
  {
   "cell_type": "code",
   "execution_count": null,
   "metadata": {},
   "outputs": [],
   "source": []
  },
  {
   "cell_type": "code",
   "execution_count": null,
   "metadata": {},
   "outputs": [],
   "source": []
  },
  {
   "cell_type": "code",
   "execution_count": null,
   "metadata": {},
   "outputs": [],
   "source": []
  },
  {
   "cell_type": "code",
   "execution_count": null,
   "metadata": {},
   "outputs": [],
   "source": []
  },
  {
   "cell_type": "code",
   "execution_count": 6,
   "metadata": {},
   "outputs": [
    {
     "data": {
      "text/html": [
       "<iframe src=\"data:text/html;base64,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\" width=\"100%\" height=\"480\"></iframe>"
      ],
      "text/plain": [
       "<IPython.core.display.HTML object>"
      ]
     },
     "execution_count": 6,
     "metadata": {},
     "output_type": "execute_result"
    }
   ],
   "source": [
    "def leaflet_plot_stations(hashid):\n",
    "\n",
    "    df = pd.read_csv('~/Documents/Python/data/weather_location_data.csv')\n",
    "\n",
    "    station_locations_by_hash = df[df['hash'] == hashid]\n",
    "\n",
    "    lons = station_locations_by_hash['LONGITUDE'].tolist()\n",
    "    lats = station_locations_by_hash['LATITUDE'].tolist()\n",
    "\n",
    "    plt.figure(figsize=(8,8))\n",
    "\n",
    "    plt.scatter(lons, lats, c='r', alpha=0.7, s=200)\n",
    "\n",
    "    return mplleaflet.display()\n",
    "\n",
    "leaflet_plot_stations('fb441e62df2d58994928907a91895ec62c2c42e6cd075c2700843b89')"
   ]
  },
  {
   "cell_type": "code",
   "execution_count": null,
   "metadata": {},
   "outputs": [],
   "source": []
  }
 ],
 "metadata": {
  "kernelspec": {
   "display_name": "Python 3",
   "language": "python",
   "name": "python3"
  },
  "language_info": {
   "codemirror_mode": {
    "name": "ipython",
    "version": 3
   },
   "file_extension": ".py",
   "mimetype": "text/x-python",
   "name": "python",
   "nbconvert_exporter": "python",
   "pygments_lexer": "ipython3",
   "version": "3.6.9"
  }
 },
 "nbformat": 4,
 "nbformat_minor": 1
}
