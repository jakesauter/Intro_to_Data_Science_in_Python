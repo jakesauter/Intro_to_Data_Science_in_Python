{
 "cells": [
  {
   "cell_type": "markdown",
   "metadata": {},
   "source": [
    "# Practice Assignment: Understanding Distributions Through Sampling\n",
    "\n",
    "** *This assignment is optional, and I encourage you to share your solutions with me and your peers in the discussion forums!* **\n",
    "\n",
    "\n",
    "To complete this assignment, create a code cell that:\n",
    "* Creates a number of subplots using the `pyplot subplots` or `matplotlib gridspec` functionality.\n",
    "* Creates an animation, pulling between 100 and 1000 samples from each of the random variables (`x1`, `x2`, `x3`, `x4`) for each plot and plotting this as we did in the lecture on animation.\n",
    "* **Bonus:** Go above and beyond and \"wow\" your classmates (and me!) by looking into matplotlib widgets and adding a widget which allows for parameterization of the distributions behind the sampling animations.\n",
    "\n",
    "\n",
    "Tips:\n",
    "* Before you start, think about the different ways you can create this visualization to be as interesting and effective as possible.\n",
    "* Take a look at the histograms below to get an idea of what the random variables look like, as well as their positioning with respect to one another. This is just a guide, so be creative in how you lay things out!\n",
    "* Try to keep the length of your animation reasonable (roughly between 10 and 30 seconds)."
   ]
  },
  {
   "cell_type": "code",
   "execution_count": null,
   "metadata": {},
   "outputs": [],
   "source": [
    "import matplotlib.pyplot as plt\n",
    "import matplotlib.gridspec as gridspec\n",
    "import numpy as np\n",
    "\n",
    "%matplotlib notebook\n",
    "\n",
    "# generate 4 random variables from the random, gamma, exponential, and uniform distributions\n",
    "x1 = np.random.normal(-2.5, 1, 10000)\n",
    "x2 = np.random.gamma(2, 1.5, 10000)\n",
    "x3 = np.random.exponential(2, 10000)+7\n",
    "x4 = np.random.uniform(14,20, 10000)\n",
    "\n",
    "plt.figure()\n",
    "gspec = gridspec.GridSpec(2, 2)\n",
    "\n",
    "p1 = plt.subplot(gspec[0,0])\n",
    "p2 = plt.subplot(gspec[0,1])\n",
    "p3 = plt.subplot(gspec[1,0])\n",
    "p4 = plt.subplot(gspec[1,1])\n",
    "\n",
    "p1.hist(x1, density=True, bins=20, alpha=0.5)\n",
    "p2.hist(x2, density=True, bins=20, alpha=0.5)\n",
    "p3.hist(x3, density=True, bins=20, alpha=0.5)\n",
    "p4.hist(x4, density=True, bins=20, alpha=0.5)\n",
    "\n",
    "p2.annotate('n = {}'.format(100), [15,0.1])\n",
    "\n",
    "\n",
    "# plot the histograms\n",
    "# plt.figure(figsize=(9,3))\n",
    "# ax1 = plt.subplot(2,2,1)\n",
    "# plt.hist(x1, density=True, bins=20, alpha=0.5)\n",
    "# plt.axis([-7,21,0,0.6])\n",
    "# ax2 = plt.subplot(2,2,2)\n",
    "# plt.hist(x2, density=True, bins=20, alpha=0.5)\n",
    "# plt.axis([-7,21,0,0.6])\n",
    "# ax3 = plt.subplot(2,2,3)\n",
    "# plt.hist(x3, density=True, bins=20, alpha=0.5)\n",
    "# plt.axis([-7,21,0,0.6])\n",
    "# ax4 = plt.subplot(2,2,4)\n",
    "# plt.hist(x4, density=True, bins=20, alpha=0.5);\n",
    "# plt.axis([-7,21,0,0.6])\n",
    "\n",
    "plt.text(x1.mean()-1.5, 0.5, 'x1\\nNormal')\n",
    "plt.text(x2.mean()-1.5, 0.5, 'x2\\nGamma')\n",
    "plt.text(x3.mean()-1.5, 0.5, 'x3\\nExponential')\n",
    "plt.text(x4.mean()-1.5, 0.5, 'x4\\nUniform')"
   ]
  },
  {
   "cell_type": "code",
   "execution_count": 2,
   "metadata": {},
   "outputs": [],
   "source": [
    "import matplotlib.animation as animation\n",
    "\n",
    "n = 100\n",
    "x1 = np.random.normal(-2.5, 1, 10000)\n",
    "x2 = np.random.gamma(2, 1.5, 10000)\n",
    "x3 = np.random.exponential(2, 10000)+7\n",
    "x4 = np.random.uniform(14,20, 10000)"
   ]
  },
  {
   "cell_type": "code",
   "execution_count": 15,
   "metadata": {},
   "outputs": [],
   "source": [
    "def update(curr):\n",
    "    if curr == n: \n",
    "        a.event_source.stop()\n",
    "    \n",
    "    steps = range(100, 10100, 100)\n",
    "    curr = steps[curr]\n",
    "\n",
    "    p1 = plt.subplot(gspec[0,0])\n",
    "    p2 = plt.subplot(gspec[0,1])\n",
    "    p3 = plt.subplot(gspec[1,0])\n",
    "    p4 = plt.subplot(gspec[1,1])\n",
    "\n",
    "    p1.cla()\n",
    "    p1.text(x1.mean()+1.5, 0.2, 'x1\\nNormal')\n",
    "    bins = np.arange(-6, 2, 0.5)\n",
    "    p1.hist(x1[:curr], density=True, bins=bins, alpha=0.5)\n",
    "    \n",
    "    p2.cla()\n",
    "    p2.text(x2.mean()+1.5, 0.2, 'x2\\nGamma')\n",
    "    bins = np.arange(0, 16, 0.5)\n",
    "    p2.hist(x2[:curr], density=True, bins=bins, alpha=0.5)\n",
    "    \n",
    "    p3.cla()\n",
    "    p3.text(x3.mean()+1.5, 0.2, 'x3\\nExponential')\n",
    "    bins = np.arange(7, 16, 0.5)\n",
    "    p3.hist(x3[:curr], density=True, bins=bins, alpha=0.5)\n",
    "    \n",
    "    p4.cla()\n",
    "    p4.text(x4.mean()+1.5, 0.2, 'x4\\nUniform')\n",
    "    bins = np.arange(14, 21, 0.5)\n",
    "    p4.hist(x4[:curr], density=True, bins=bins, alpha=0.5)\n",
    "    \n",
    "    p2.annotate('n = {}'.format(curr), [11,0.1])\n"
   ]
  },
  {
   "cell_type": "code",
   "execution_count": 16,
   "metadata": {},
   "outputs": [
    {
     "data": {
      "image/png": "[encoded data removed]",
      "text/plain": [
       "<Figure size 432x288 with 4 Axes>"
      ]
     },
     "metadata": {},
     "output_type": "display_data"
    }
   ],
   "source": [
    "fig = plt.figure()\n",
    "a = animation.FuncAnimation(fig, update, interval=100)\n",
    "\n",
    "a.save('distributions.gif', writer = 'imagemagick', dpi=80)"
   ]
  },
  {
   "cell_type": "code",
   "execution_count": null,
   "metadata": {},
   "outputs": [],
   "source": []
  }
 ],
 "metadata": {
  "kernelspec": {
   "display_name": "Python 3",
   "language": "python",
   "name": "python3"
  },
  "language_info": {
   "codemirror_mode": {
    "name": "ipython",
    "version": 3
   },
   "file_extension": ".py",
   "mimetype": "text/x-python",
   "name": "python",
   "nbconvert_exporter": "python",
   "pygments_lexer": "ipython3",
   "version": "3.6.9"
  }
 },
 "nbformat": 4,
 "nbformat_minor": 2
}
